{
 "cells": [
  {
   "cell_type": "markdown",
   "metadata": {},
   "source": [
    "## Filter Color with OpenCV\n",
    "\n",
    "Colour segmentation or color filtering is widely used in OpenCV for identifying specific objects/regions having a specific color. \n",
    "\n",
    "Color Filtering has many applications and uses cases such as in Cryptography, infrared analysis, food preservation of perishable foods, etc. In such cases, the concepts of Image processing can be used to find out or extract out regions of a particular color. \n",
    "\n",
    "For color segmentation, all we need is the threshold values or the knowledge of the lower bound and upper bound range of colors in one of the color spaces. It works best in the Hue-Saturation-Value (HSV) color space.\n",
    "\n",
    "After specifying the range of color to be segmented, it is needed to create a mask accordingly and by using it, a particular region of interest can be separated out.\n",
    " "
   ]
  },
  {
   "cell_type": "code",
   "execution_count": 5,
   "metadata": {},
   "outputs": [],
   "source": [
    "# Import everything\n",
    "import cv2 as cv\n",
    "import numpy as np\n",
    "import matplotlib.pyplot as plt\n",
    "\n",
    "%matplotlib inline"
   ]
  },
  {
   "cell_type": "code",
   "execution_count": 3,
   "metadata": {},
   "outputs": [],
   "source": [
    "# cap = cv.VideoCapture(0)\n",
    " \n",
    "# while(1):\n",
    "#     _, frame = cap.read()\n",
    "#     # It converts the BGR color space of image to HSV color space\n",
    "#     hsv = cv.cvtColor(frame, cv.COLOR_BGR2HSV)\n",
    "     \n",
    "#     # Threshold of blue in HSV space\n",
    "#     lower_blue = np.array([60, 35, 140])\n",
    "#     upper_blue = np.array([180, 255, 255])\n",
    " \n",
    "#     # preparing the mask to overlay\n",
    "#     mask = cv.inRange(hsv, lower_blue, upper_blue)\n",
    "     \n",
    "#     # The black region in the mask has the value of 0,\n",
    "#     # so when multiplied with original image removes all non-blue regions\n",
    "#     result = cv.bitwise_and(frame, frame, mask = mask)\n",
    " \n",
    "#     cv.imshow('frame', frame)\n",
    "#     cv.imshow('mask', mask)\n",
    "#     cv.imshow('result', result)\n",
    "     \n",
    "#     cv.waitKey(0)\n",
    " \n",
    "# cv.destroyAllWindows()\n",
    "# cap.release()"
   ]
  },
  {
   "cell_type": "markdown",
   "metadata": {},
   "source": [
    "***\n",
    "\n",
    "## Bilateral Filtering\n",
    "\n",
    "A bilateral filter is used for smoothening images and reducing noise, while **preserving edges**. \n",
    "\n",
    "\n"
   ]
  },
  {
   "cell_type": "markdown",
   "metadata": {},
   "source": [
    "### 1. Gaussian Blur\n",
    "\n",
    "Gaussian blurring can be formulated as follows:\n",
    "\n",
    "<p align=\"center\"><img width=\"400\" src=\"https://media.geeksforgeeks.org/wp-content/uploads/20190824233655/gaussian_eq.png\" /></p>\n",
    "\n",
    "Here, GA[I]_p  is the result at pixel p, and the RHS is essentially a sum over all pixels q weighted by the Gaussian function. I_q  is the intensity at pixel q.\n",
    "\n"
   ]
  },
  {
   "cell_type": "markdown",
   "metadata": {},
   "source": [
    "***\n",
    "\n",
    "### 2. Bilateral Filter: an Additional Edge Term\n",
    "The bilateral filter can be formulated as follows:\n",
    "\n",
    "<p align=\"center\"><img width=\"600\" src=\"https://media.geeksforgeeks.org/wp-content/uploads/20190825010814/Untitled-Diagram-138.png\"/></p>"
   ]
  },
  {
   "cell_type": "markdown",
   "metadata": {},
   "source": [
    "Here, the normalization factor and the range weight are new terms added to the previous equation. $\\sigma_s$  denotes the spatial extent of the kernel, i.e. the size of the neighborhood, and $\\sigma_r$  denotes the minimum amplitude of an edge. It ensures that only those pixels with intensity values similar to that of the central pixel are considered for blurring, while sharp intensity changes are maintained. The smaller the value of $\\sigma_r$  , the sharper the edge. As $\\sigma_r$  tends to infinity, the equation tends to a Gaussian blur.\n"
   ]
  },
  {
   "cell_type": "markdown",
   "metadata": {},
   "source": [
    "OpenCV has a function called `cv.bilateralFilter()` with the following arguments:  \n",
    "1. `d`: Diameter of each pixel neighborhood.  \n",
    "2. `sigmaColor`: Value of $\\sigma$  in the color space. The greater the value, the colors farther to each other will start to get mixed.\n",
    "3. `sigmaSpace`: Value of $\\sigma$  in the coordinate space. The greater its value, the more further pixels will mix together, given that their colors lie within the sigmaColor range.\n"
   ]
  },
  {
   "cell_type": "code",
   "execution_count": 9,
   "metadata": {},
   "outputs": [],
   "source": [
    "# Read the image.\n",
    "img = cv.imread('../images/opencv_tutorials/noisy_palace.jpg')\n",
    " \n",
    "# Apply bilateral filter with d = 15,\n",
    "# sigmaColor = sigmaSpace = 75.\n",
    "bilateral = cv.bilateralFilter(img, 15, 75, 75)\n",
    " \n",
    "# Save the output.\n",
    "# cv.imwrite('taj_bilateral.jpg', bilateral)\n",
    "cv.imshow('window', bilateral)\n",
    "cv.waitKey(0)\n",
    "cv.destroyAllWindows()"
   ]
  }
 ],
 "metadata": {
  "interpreter": {
   "hash": "1ccb481e525a63dc9e6b0d7b19e3f01835b24b6d76112660bdd2095f1b071fb5"
  },
  "kernelspec": {
   "display_name": "Python 3.8.10 64-bit ('opencv': venv)",
   "language": "python",
   "name": "python3"
  },
  "language_info": {
   "codemirror_mode": {
    "name": "ipython",
    "version": 3
   },
   "file_extension": ".py",
   "mimetype": "text/x-python",
   "name": "python",
   "nbconvert_exporter": "python",
   "pygments_lexer": "ipython3",
   "version": "3.8.10"
  },
  "orig_nbformat": 4
 },
 "nbformat": 4,
 "nbformat_minor": 2
}
