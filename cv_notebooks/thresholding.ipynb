{
 "cells": [
  {
   "cell_type": "markdown",
   "metadata": {},
   "source": [
    "## Thresholding techniques using OpenCV"
   ]
  },
  {
   "cell_type": "code",
   "execution_count": 1,
   "metadata": {},
   "outputs": [],
   "source": [
    "# Import everything\n",
    "import cv2 as cv\n",
    "import numpy as np\n",
    "import matplotlib.pyplot as plt\n",
    "\n",
    "%matplotlib inline"
   ]
  },
  {
   "cell_type": "markdown",
   "metadata": {},
   "source": [
    "***\n",
    "\n",
    "### 1. Set 1 - Simple Thresholding\n",
    "\n",
    "**Thresholding** is a technique in OpenCV, which is the assignment of pixel values in relation to the threshold value provided. In thresholding, each pixel value is compared with the threshold value. If the pixel value is smaller than the threshold, it is set to 0, otherwise, it is set to a maximum value (generally 255). Thresholding is a very popular segmentation technique, used for separating an object considered as a foreground from its background. A threshold is a value which has two regions on its either side i.e. below the threshold or above the threshold. \n",
    "\n",
    "> In Computer Vision, this technique of thresholding is done on grayscale images. So initially, the image **must be converted in grayscale color space.**\n",
    "\n",
    "In OpenCV with Python, the function `cv.threshold()` is used for thresholding. \n",
    "\n",
    "> **Syntax**: `cv.threshold(source, therholdValue, maxVal, thresholdingTechnique)`  \n",
    "**Parameters**:  \n",
    "    * *source* - Input image array (must be in Grayscale).  \n",
    "    * *thresholdValue* - Value of Threshold below and above which pixel values will change accordingly.  \n",
    "    * *maxVal* - Maximum value that can be assigned to pixel.  \n",
    "    * *thresholdingTechnique* - The type of thresholding to be applied.  \n",
    "\n",
    "**Thresholing Techniques**\n",
    "* cv.THRESH_BINARY - If pixel intensity is greater than the set threshold, value set to 255, else set to 0 (black).\n",
    "* cv.THRESH_BINARY_INV - Inverted or Opposite case of cv2.THRESH_BINARY.\n",
    "* cv.THRESH_TRUNC - If pixel intensity value is greater than threshold, it is truncated to the threshold. The pixel values are set to be the same as the threshold. All other values remain the same.\n",
    "* cv.THRESH_TOZERO - Pixel intensity is set to 0, for all the pixels intensity, less than the threshold value.\n",
    "* cv.THRESH_TOZERO_INV - Inverted or Opposite case of cv2.THRESH_TOZERO.\n",
    "\n",
    "<!-- ![Explaination of above techniques]() -->\n",
    "<p align=\"center\">\n",
    "    <img src=\"https://media.geeksforgeeks.org/wp-content/uploads/20190505162413/Screenshot-4113.png\">\n",
    "</p>"
   ]
  },
  {
   "cell_type": "code",
   "execution_count": 2,
   "metadata": {},
   "outputs": [],
   "source": [
    "image = cv.imread('../images/opencv_tutorials/geeksforgeeks.png')\n",
    "\n",
    "img = cv.cvtColor(image, cv.COLOR_BGR2GRAY)\n",
    "\n",
    "# applying different thresholding\n",
    "# techniques on the input image\n",
    "# all pixels value above 120 will\n",
    "# be set to 255\n",
    "\n",
    "ret, thresh1 = cv.threshold(img, 120, 255, cv.THRESH_BINARY)\n",
    "ret, thresh2 = cv.threshold(img, 120, 255, cv.THRESH_BINARY_INV)\n",
    "ret, thresh3 = cv.threshold(img, 120, 255, cv.THRESH_TRUNC)\n",
    "ret, thresh4 = cv.threshold(img, 120, 255, cv.THRESH_TOZERO)\n",
    "ret, thresh5 = cv.threshold(img, 120, 255, cv.THRESH_TOZERO_INV)\n",
    "\n",
    "# the window showing output images\n",
    "# with the corresponding thresholding\n",
    "# techniques applied to the input images\n",
    "cv.imshow('Binary Threshold', thresh1)\n",
    "cv.imshow('Binary Threshold Inverted', thresh2)\n",
    "cv.imshow('Truncated Threshold', thresh3)\n",
    "cv.imshow('Set to 0', thresh4)\n",
    "cv.imshow('Set to 0 Inverted', thresh5)\n",
    "   \n",
    "# De-allocate any associated memory usage \n",
    "# if cv.waitKey(0) & 0xff == 27:\n",
    "#     cv.destroyAllWindows()\n",
    "cv.waitKey(0)\n",
    "cv.destroyAllWindows()"
   ]
  },
  {
   "cell_type": "markdown",
   "metadata": {},
   "source": [
    "***\n",
    "\n",
    "### 2. Set 2 - Adaptive Thresholding\n",
    "\n",
    "Another Thresholding technique is **Adaptive Thresholding**. In Simple Thresholding, a global value of threshold was used which remained constant throughout. So, a constant threshold value won’t help in the case of variable lighting conditions in different areas. Adaptive thresholding is the method where the threshold value is calculated for smaller regions. This leads to different threshold values for different regions with respect to the change in lighting. We use `cv2.adaptiveThreshold()` for this.\n",
    "\n",
    "> **Syntax**: `cv.adaptiveThreshold(source, maxVal, adaptiveMethod, thresholdType, blockSize, constant)`\n",
    "**Parameters**:  \n",
    "    * *source* - Input Image array(Single-channel, 8-bit or floating-point).   \n",
    "    * *maxVal* - Maximum value that can be assigned to pixel.  \n",
    "    * *adaptiveMethod* - Adaptive method decides how threshold value is calculated:  \n",
    "        * *cv.ADAPTIVE_THRESH_MEAN_C*: Threshold Value = (Mean of the neighbourhood area values – constant value). In other words, it is the mean of the blockSize×blockSize neighborhood of a point minus constant.  \n",
    "        * *cv.ADAPTIVE_THRESH_GAUSSIAN_C*: Threshold Value = (Gaussian-weighted sum of the neighbourhood values – constant value). In other words, it is a weighted sum of the blockSize×blockSize neighborhood of a point minus constant.  \n",
    "    * *thresholdType*: the type of thresholding to be applied.\n",
    "    * *blockSize*: Size of a pixel neighborhood that is used to calculate a threshold value.  \n",
    "    * *constant*: A constant value that is subtracted from the mean or weighted sum of the neighbourhood pixels."
   ]
  },
  {
   "cell_type": "code",
   "execution_count": 3,
   "metadata": {},
   "outputs": [],
   "source": [
    "# path to input image is specified and  \n",
    "# image is loaded with imread command \n",
    "image1 = cv.imread('../images/opencv_tutorials/book.jpg') \n",
    "   \n",
    "# cv.cvtColor is applied over the\n",
    "# image input with applied parameters\n",
    "# to convert the image in grayscale \n",
    "img = cv.cvtColor(image1, cv.COLOR_BGR2GRAY)\n",
    "   \n",
    "# applying different thresholding \n",
    "# techniques on the input image\n",
    "thresh1 = cv.adaptiveThreshold(img, 255, cv.ADAPTIVE_THRESH_MEAN_C,\n",
    "                                          cv.THRESH_BINARY, 199, 5)\n",
    "  \n",
    "thresh2 = cv.adaptiveThreshold(img, 255, cv.ADAPTIVE_THRESH_GAUSSIAN_C,\n",
    "                                          cv.THRESH_BINARY, 199, 5)\n",
    "  \n",
    "# the window showing output images\n",
    "# with the corresponding thresholding \n",
    "# techniques applied to the input image\n",
    "cv.imshow('Adaptive Mean', thresh1)\n",
    "cv.imshow('Adaptive Gaussian', thresh2)\n",
    "  \n",
    "     \n",
    "# De-allocate any associated memory usage  \n",
    "cv.waitKey(0)\n",
    "cv.destroyAllWindows() "
   ]
  },
  {
   "cell_type": "markdown",
   "metadata": {},
   "source": [
    "***\n",
    "\n",
    "### 3. Otsu Thresholding\n",
    "\n",
    "In **Otsu Thresholding**, a value of the threshold isn’t chosen but is determined automatically. A bimodal image (two distinct image values) is considered. The histogram generated contains two peaks. So, a generic condition would be to choose a threshold value that lies in the middle of both the histogram peak values."
   ]
  },
  {
   "cell_type": "markdown",
   "metadata": {},
   "source": [
    "> **Syntax**: `cv.threshold(source, thresholdValue, maxVal, thresholdingTechnique)`  \n",
    "**Parameters**:  \n",
    "    * `source`: Input Image array (must be in Grayscale).  \n",
    "    * `thresholdValue`: Value of Threshold below and above which pixel values will change accordingly.  \n",
    "    * `maxVal`: Maximum value that can be assigned to a pixel.  \n",
    "    * `thresholdingTechnique`: The tyep of thresholding to be applied."
   ]
  },
  {
   "cell_type": "code",
   "execution_count": 4,
   "metadata": {},
   "outputs": [],
   "source": [
    "# path to input image is specified and\n",
    "# image is loaded with imread command\n",
    "image1 = cv.imread('../images/opencv_tutorials/geeksforgeeks.png')\n",
    "  \n",
    "# cv.cvtColor is applied over the\n",
    "# image input with applied parameters\n",
    "# to convert the image in grayscale\n",
    "img = cv.cvtColor(image1, cv.COLOR_BGR2GRAY)\n",
    "  \n",
    "# applying Otsu thresholding\n",
    "# as an extra flag in binary \n",
    "# thresholding     \n",
    "ret, thresh1 = cv.threshold(img, 120, 255, cv.THRESH_BINARY + \n",
    "                                            cv.THRESH_OTSU)     \n",
    "  \n",
    "# the window showing output image         \n",
    "# with the corresponding thresholding         \n",
    "# techniques applied to the input image    \n",
    "cv.imshow('Otsu Threshold', thresh1)         \n",
    "       \n",
    "# De-allocate any associated memory usage         \n",
    "if cv.waitKey(0) & 0xff == 27:\n",
    "    cv.destroyAllWindows()     "
   ]
  },
  {
   "cell_type": "code",
   "execution_count": null,
   "metadata": {},
   "outputs": [],
   "source": []
  }
 ],
 "metadata": {
  "interpreter": {
   "hash": "1ccb481e525a63dc9e6b0d7b19e3f01835b24b6d76112660bdd2095f1b071fb5"
  },
  "kernelspec": {
   "display_name": "Python 3.8.10 64-bit ('opencv': venv)",
   "language": "python",
   "name": "python3"
  },
  "language_info": {
   "codemirror_mode": {
    "name": "ipython",
    "version": 3
   },
   "file_extension": ".py",
   "mimetype": "text/x-python",
   "name": "python",
   "nbconvert_exporter": "python",
   "pygments_lexer": "ipython3",
   "version": "3.8.10"
  },
  "orig_nbformat": 4
 },
 "nbformat": 4,
 "nbformat_minor": 2
}
