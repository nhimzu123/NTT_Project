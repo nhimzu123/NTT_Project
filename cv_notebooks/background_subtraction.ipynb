{
 "cells": [
  {
   "cell_type": "markdown",
   "metadata": {},
   "source": [
    "## Background Subtraction using OpenCV\n",
    "\n",
    "**Background Subtraction** has several use cases in everyday life, It is being used for object segmentation, security enhancement, pedestrian tracking, counting the number of visitors, number of vehicles in traffic etc. It is able to learn and identify the foreground mask\n",
    "\n",
    "As the name suggests, it is able to subtract or eliminate the background portion in an image. Its output is a binary segmented image which essentially gives information about the non-stationary objects in the image. There lies a problem in this concept of finding non-stationary portion, as the shadow of the moving object can be moving and sometimes being classified in the foreground.\n",
    "The popular Background subtraction algorithms are: \n",
    "* **BackgroundSubtractorMOG** : It is a gaussian mixture based background segmentation algorithm.\n",
    "* **BackgroundSubtractorMOG2**: It uses the same concept but the major advantage that it provides is in terms of stability even when there is change in luminosity and better identification capability of shadows in the frames.\n",
    "* **Geometric multigrid**: It makes uses of statistical method and per pixel bayesin segmentation algorithm."
   ]
  },
  {
   "cell_type": "code",
   "execution_count": 1,
   "metadata": {},
   "outputs": [],
   "source": [
    "# Import everything \n",
    "import numpy as np\n",
    "import cv2 as cv"
   ]
  },
  {
   "cell_type": "code",
   "execution_count": 2,
   "metadata": {},
   "outputs": [],
   "source": [
    "img = cv.imread('../images/opencv_tutorials/cctv.jpg')\n",
    "\n",
    "fgbg = cv.createBackgroundSubtractorMOG2()\n",
    "\n",
    "fgmask = fgbg.apply(img)\n",
    "\n",
    "cv.imshow('fgmask', fgmask)\n",
    "cv.imshow('frame', img)\n",
    "\n",
    "cv.waitKey(0)\n",
    "cv.destroyAllWindows()\n"
   ]
  },
  {
   "cell_type": "code",
   "execution_count": null,
   "metadata": {},
   "outputs": [],
   "source": [
    "# Python code for Background subtraction using OpenCV for video\n",
    "\n",
    " \n",
    "cap = cv.VideoCapture('/home/sourabh/Downloads/people-walking.mp4')\n",
    "fgbg = cv.createBackgroundSubtractorMOG2()\n",
    " \n",
    "while(1):\n",
    "    ret, frame = cap.read()\n",
    " \n",
    "    fgmask = fgbg.apply(frame)\n",
    "  \n",
    "    cv.imshow('fgmask', fgmask)\n",
    "    cv.imshow('frame',frame )\n",
    " \n",
    "     \n",
    "    k = cv.waitKey(30) & 0xff\n",
    "    if k == 27:\n",
    "        break\n",
    "     \n",
    " \n",
    "cap.release()\n",
    "cv.destroyAllWindows()"
   ]
  }
 ],
 "metadata": {
  "interpreter": {
   "hash": "1ccb481e525a63dc9e6b0d7b19e3f01835b24b6d76112660bdd2095f1b071fb5"
  },
  "kernelspec": {
   "display_name": "Python 3.8.10 64-bit ('opencv': venv)",
   "language": "python",
   "name": "python3"
  },
  "language_info": {
   "codemirror_mode": {
    "name": "ipython",
    "version": 3
   },
   "file_extension": ".py",
   "mimetype": "text/x-python",
   "name": "python",
   "nbconvert_exporter": "python",
   "pygments_lexer": "ipython3",
   "version": "3.8.10"
  },
  "orig_nbformat": 4
 },
 "nbformat": 4,
 "nbformat_minor": 2
}
